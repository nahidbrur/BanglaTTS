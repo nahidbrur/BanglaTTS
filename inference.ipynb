{
 "cells": [
  {
   "cell_type": "code",
   "execution_count": null,
   "id": "52b62aac",
   "metadata": {},
   "outputs": [],
   "source": [
    "from inference import model_loading, bangla_tts"
   ]
  },
  {
   "cell_type": "code",
   "execution_count": null,
   "id": "1e5b507b",
   "metadata": {},
   "outputs": [],
   "source": [
    "import soundfile as sf\n",
    "text = 'রওশন এরশাদের সঙ্গে দেখা করলেন জিএম কাদের।'\n",
    "fileName = 'logs/test_male.wav'\n",
    "\n",
    "tts_bn_model = model_loading()\n",
    "audio= bangla_tts(\n",
    " model= tts_bn_model, \n",
    " text = text, \n",
    " is_male = False, \n",
    " is_e2e_vits = True\n",
    " )\n",
    "\n",
    "\n",
    "# if DEBUG_SAVE:\n",
    "sf.write(fileName, audio, 22050)"
   ]
  },
  {
   "cell_type": "code",
   "execution_count": null,
   "id": "970e7c45",
   "metadata": {},
   "outputs": [],
   "source": [
    "import IPython\n",
    "print(text)\n",
    "IPython.display.Audio(fileName)"
   ]
  },
  {
   "cell_type": "code",
   "execution_count": null,
   "id": "ce576c08",
   "metadata": {},
   "outputs": [],
   "source": []
  }
 ],
 "metadata": {
  "kernelspec": {
   "display_name": "Python [conda env:coqui] *",
   "language": "python",
   "name": "conda-env-coqui-py"
  },
  "language_info": {
   "codemirror_mode": {
    "name": "ipython",
    "version": 3
   },
   "file_extension": ".py",
   "mimetype": "text/x-python",
   "name": "python",
   "nbconvert_exporter": "python",
   "pygments_lexer": "ipython3",
   "version": "3.8.17"
  }
 },
 "nbformat": 4,
 "nbformat_minor": 5
}
